{
 "cells": [
  {
   "cell_type": "code",
   "execution_count": 1,
   "id": "93f55b25-9c1a-4c74-a77a-391ed4c88de1",
   "metadata": {},
   "outputs": [],
   "source": [
    "import pandas as pd"
   ]
  },
  {
   "cell_type": "code",
   "execution_count": 2,
   "id": "f5c6d829-d085-4860-96a0-2215444b7273",
   "metadata": {},
   "outputs": [],
   "source": [
    "import numpy as np\n",
    "import re"
   ]
  },
  {
   "cell_type": "code",
   "execution_count": 3,
   "id": "63b9cdcd-ca59-43c5-a875-0651f6b55c1e",
   "metadata": {},
   "outputs": [],
   "source": [
    "import nltk"
   ]
  },
  {
   "cell_type": "code",
   "execution_count": 4,
   "id": "dc760545-306d-4dd8-ba77-2111f16aca56",
   "metadata": {},
   "outputs": [],
   "source": [
    "from nltk.corpus import stopwords\n",
    "from nltk.stem import WordNetLemmatizer\n",
    "from nltk.tokenize import word_tokenize, sent_tokenize\n",
    "from nltk.tag import pos_tag\n",
    "from nltk import ne_chunk\n",
    "from nltk.chunk import conlltags2tree, tree2conlltags\n",
    "from sklearn.feature_extraction.text import CountVectorizer, TfidfVectorizer\n",
    "from gensim.models import Word2Vec\n",
    "from textblob import TextBlob\n",
    "import emoji"
   ]
  },
  {
   "cell_type": "code",
   "execution_count": 5,
   "id": "2eb140a4-2b62-435f-b22a-050cddc9878e",
   "metadata": {},
   "outputs": [
    {
     "name": "stderr",
     "output_type": "stream",
     "text": [
      "[nltk_data] Downloading package punkt to\n",
      "[nltk_data]     /home/kaushalpancholi/nltk_data...\n",
      "[nltk_data]   Package punkt is already up-to-date!\n",
      "[nltk_data] Downloading package stopwords to\n",
      "[nltk_data]     /home/kaushalpancholi/nltk_data...\n",
      "[nltk_data]   Package stopwords is already up-to-date!\n",
      "[nltk_data] Downloading package wordnet to\n",
      "[nltk_data]     /home/kaushalpancholi/nltk_data...\n",
      "[nltk_data]   Package wordnet is already up-to-date!\n",
      "[nltk_data] Downloading package averaged_perceptron_tagger to\n",
      "[nltk_data]     /home/kaushalpancholi/nltk_data...\n",
      "[nltk_data]   Package averaged_perceptron_tagger is already up-to-\n",
      "[nltk_data]       date!\n",
      "[nltk_data] Downloading package maxent_ne_chunker to\n",
      "[nltk_data]     /home/kaushalpancholi/nltk_data...\n",
      "[nltk_data]   Package maxent_ne_chunker is already up-to-date!\n",
      "[nltk_data] Downloading package words to\n",
      "[nltk_data]     /home/kaushalpancholi/nltk_data...\n",
      "[nltk_data]   Package words is already up-to-date!\n"
     ]
    },
    {
     "data": {
      "text/plain": [
       "True"
      ]
     },
     "execution_count": 5,
     "metadata": {},
     "output_type": "execute_result"
    }
   ],
   "source": [
    "nltk.download('punkt')\n",
    "nltk.download('stopwords')\n",
    "nltk.download('wordnet')\n",
    "nltk.download('averaged_perceptron_tagger')\n",
    "nltk.download('maxent_ne_chunker')\n",
    "nltk.download('words')"
   ]
  },
  {
   "cell_type": "code",
   "execution_count": 6,
   "id": "86b8e35e-416c-4fc7-9caa-658a73891c81",
   "metadata": {},
   "outputs": [],
   "source": [
    "file_path = \"/home/kaushalpancholi/Documents/6000+ Indian Food Recipes Dataset/IndianFoodDatasetCSV.csv\"\n",
    "df = pd.read_csv(file_path)\n"
   ]
  },
  {
   "cell_type": "code",
   "execution_count": 7,
   "id": "2b29fe25-7745-4b58-ad74-11d49f574f7f",
   "metadata": {},
   "outputs": [
    {
     "name": "stdout",
     "output_type": "stream",
     "text": [
      "       Srno                                         RecipeName  \\\n",
      "0         1                               Masala Karela Recipe   \n",
      "1         2  टमाटर पुलियोगरे रेसिपी - Spicy Tomato Rice (Re...   \n",
      "2         3  Ragi Semiya Upma Recipe - Ragi Millet Vermicel...   \n",
      "3         4  Gongura Chicken Curry Recipe - Andhra Style Go...   \n",
      "4         5  आंध्रा स्टाइल आलम पचड़ी रेसिपी - Adrak Chutney ...   \n",
      "...     ...                                                ...   \n",
      "6866  14073  गोअन मशरुम जकुटी रेसिपी - Goan Mushroom Xacuti...   \n",
      "6867  14107  शकरकंदी और मेथी का पराठा रेसिपी - Sweet Potato...   \n",
      "6868  14165      Ullikadala Pulusu Recipe | Spring Onion Curry   \n",
      "6869  14167  Kashmiri Style Kokur Yakhni Recipe-Chicken Coo...   \n",
      "6870  14211              नवरंग दाल रेसिपी - Navrang Dal Recipe   \n",
      "\n",
      "                                   TranslatedRecipeName  \\\n",
      "0                                  Masala Karela Recipe   \n",
      "1                            Spicy Tomato Rice (Recipe)   \n",
      "2     Ragi Semiya Upma Recipe - Ragi Millet Vermicel...   \n",
      "3     Gongura Chicken Curry Recipe - Andhra Style Go...   \n",
      "4     Andhra Style Alam Pachadi Recipe - Adrak Chutn...   \n",
      "...                                                 ...   \n",
      "6866                        Goan Mushroom Xacuti Recipe   \n",
      "6867        Sweet Potato & Methi Stuffed Paratha Recipe   \n",
      "6868      Ullikadala Pulusu Recipe | Spring Onion Curry   \n",
      "6869  Kashmiri Style Kokur Yakhni Recipe-Chicken Coo...   \n",
      "6870                                 Navrang Dal Recipe   \n",
      "\n",
      "                                            Ingredients  \\\n",
      "0     6 Karela (Bitter Gourd/ Pavakkai) - deseeded,S...   \n",
      "1     2-1/2 कप चावल - पका ले,3 टमाटर,3 छोटा चमच्च बी...   \n",
      "2     1-1/2 cups Rice Vermicelli Noodles (Thin),1 On...   \n",
      "3     500 grams Chicken,2 Onion - chopped,1 Tomato -...   \n",
      "4     1 बड़ा चमच्च चना दाल,1 बड़ा चमच्च सफ़ेद उरद दाल,2...   \n",
      "...                                                 ...   \n",
      "6866  20 बटन मशरुम,2 प्याज - काट ले,1 टमाटर - बारीक ...   \n",
      "6867  1 बड़ा चम्मच तेल,1 कप गेहूं का आटा,नमक - स्वाद ...   \n",
      "6868  150 grams Spring Onion (Bulb & Greens) - chopp...   \n",
      "6869  1 kg Chicken - medium pieces,1/2 cup Mustard o...   \n",
      "6870  2 बड़े चम्मच हरी मूंग दाल,2 बड़े चम्मच सफ़ेद उरद ...   \n",
      "\n",
      "                                  TranslatedIngredients  PrepTimeInMins  \\\n",
      "0     6 Karela (Bitter Gourd/ Pavakkai) - deseeded,S...              15   \n",
      "1     2-1 / 2 cups rice - cooked, 3 tomatoes, 3 teas...               5   \n",
      "2     1-1/2 cups Rice Vermicelli Noodles (Thin),1 On...              20   \n",
      "3     500 grams Chicken,2 Onion - chopped,1 Tomato -...              15   \n",
      "4     1 tablespoon chana dal, 1 tablespoon white ura...              10   \n",
      "...                                                 ...             ...   \n",
      "6866  20 बटन मशरुम,2 प्याज - काट ले,1 टमाटर - बारीक ...              15   \n",
      "6867  1 बड़ा चम्मच तेल,1 कप गेहूं का आटा,नमक - स्वाद ...              30   \n",
      "6868  150 grams Spring Onion (Bulb & Greens) - chopp...               5   \n",
      "6869  1 kg Chicken - medium pieces,1/2 cup Mustard o...              30   \n",
      "6870  2 बड़े चम्मच हरी मूंग दाल,2 बड़े चम्मच सफ़ेद उरद ...              10   \n",
      "\n",
      "      CookTimeInMins  TotalTimeInMins  Servings               Cuisine  \\\n",
      "0                 30               45         6                Indian   \n",
      "1                 10               15         3  South Indian Recipes   \n",
      "2                 30               50         4  South Indian Recipes   \n",
      "3                 30               45         4                Andhra   \n",
      "4                 20               30         4                Andhra   \n",
      "...              ...              ...       ...                   ...   \n",
      "6866              45               60         4          Goan Recipes   \n",
      "6867              60               90         4  North Indian Recipes   \n",
      "6868              10               15         2                Andhra   \n",
      "6869              45               75         4              Kashmiri   \n",
      "6870              30               40         4  North Indian Recipes   \n",
      "\n",
      "                      Course                     Diet  \\\n",
      "0                  Side Dish        Diabetic Friendly   \n",
      "1                Main Course               Vegetarian   \n",
      "2     South Indian Breakfast  High Protein Vegetarian   \n",
      "3                      Lunch           Non Vegeterian   \n",
      "4     South Indian Breakfast               Vegetarian   \n",
      "...                      ...                      ...   \n",
      "6866                   Lunch               Vegetarian   \n",
      "6867  North Indian Breakfast        Diabetic Friendly   \n",
      "6868               Side Dish               Vegetarian   \n",
      "6869                   Lunch           Non Vegeterian   \n",
      "6870                   Lunch  High Protein Vegetarian   \n",
      "\n",
      "                                           Instructions  \\\n",
      "0     To begin making the Masala Karela Recipe,de-se...   \n",
      "1     टमाटर पुलियोगरे बनाने के लिए सबसे पहले टमाटर क...   \n",
      "2     To begin making the Ragi Vermicelli Recipe, fi...   \n",
      "3     To begin making Gongura Chicken Curry Recipe f...   \n",
      "4     आंध्रा स्टाइल आलम पचड़ी बनाने के लिए सबसे पहले ...   \n",
      "...                                                 ...   \n",
      "6866  गोअन मशरुम जकुटी रेसिपी बनाने के लिए सबसे पहले...   \n",
      "6867  शकरकंदी और मेथी का पराठा रेसिपी बनाने के लिए स...   \n",
      "6868  To begin making Ullikadala Pulusu Recipe | Spr...   \n",
      "6869  To begin making the Kashmiri Kokur Yakhni reci...   \n",
      "6870  नवरंग दाल रेसिपी  बनाने के लिए सबसे पहले सारी ...   \n",
      "\n",
      "                                 TranslatedInstructions  \\\n",
      "0     To begin making the Masala Karela Recipe,de-se...   \n",
      "1     To make tomato puliogere, first cut the tomato...   \n",
      "2     To begin making the Ragi Vermicelli Recipe, fi...   \n",
      "3     To begin making Gongura Chicken Curry Recipe f...   \n",
      "4     To make Andhra Style Alam Pachadi, first heat ...   \n",
      "...                                                 ...   \n",
      "6866  गोअन मशरुम जकुटी रेसिपी बनाने के लिए सबसे पहले...   \n",
      "6867  शकरकंदी और मेथी का पराठा रेसिपी बनाने के लिए स...   \n",
      "6868  To begin making Ullikadala Pulusu Recipe | Spr...   \n",
      "6869  To begin making the Kashmiri Kokur Yakhni reci...   \n",
      "6870  नवरंग दाल रेसिपी  बनाने के लिए सबसे पहले सारी ...   \n",
      "\n",
      "                                                    URL  \n",
      "0     https://www.archanaskitchen.com/masala-karela-...  \n",
      "1     http://www.archanaskitchen.com/spicy-tomato-ri...  \n",
      "2     http://www.archanaskitchen.com/ragi-vermicelli...  \n",
      "3     http://www.archanaskitchen.com/gongura-chicken...  \n",
      "4     https://www.archanaskitchen.com/andhra-style-a...  \n",
      "...                                                 ...  \n",
      "6866  https://www.archanaskitchen.com/goan-mushroom-...  \n",
      "6867  https://www.archanaskitchen.com/sweet-potato-m...  \n",
      "6868  https://www.archanaskitchen.com/ullikadala-pul...  \n",
      "6869  http://www.archanaskitchen.com/kashmiri-kokur-...  \n",
      "6870  https://www.archanaskitchen.com/navrang-dal-re...  \n",
      "\n",
      "[6871 rows x 15 columns]\n"
     ]
    }
   ],
   "source": [
    "print(df)"
   ]
  },
  {
   "cell_type": "code",
   "execution_count": 8,
   "id": "3cad7e2b-a15a-490e-9ad1-7cac4abcdfb1",
   "metadata": {},
   "outputs": [
    {
     "name": "stdout",
     "output_type": "stream",
     "text": [
      "['Srno', 'RecipeName', 'TranslatedRecipeName', 'Ingredients', 'TranslatedIngredients', 'PrepTimeInMins', 'CookTimeInMins', 'TotalTimeInMins', 'Servings', 'Cuisine', 'Course', 'Diet', 'Instructions', 'TranslatedInstructions', 'URL']\n"
     ]
    }
   ],
   "source": [
    "print(list(df.columns))"
   ]
  },
  {
   "cell_type": "code",
   "execution_count": 9,
   "id": "e9adb15b-cebf-423d-8beb-f05660498574",
   "metadata": {},
   "outputs": [
    {
     "name": "stdout",
     "output_type": "stream",
     "text": [
      "   Srno                                         RecipeName  \\\n",
      "0     1                               Masala Karela Recipe   \n",
      "1     2  टमाटर पुलियोगरे रेसिपी - Spicy Tomato Rice (Re...   \n",
      "2     3  Ragi Semiya Upma Recipe - Ragi Millet Vermicel...   \n",
      "3     4  Gongura Chicken Curry Recipe - Andhra Style Go...   \n",
      "4     5  आंध्रा स्टाइल आलम पचड़ी रेसिपी - Adrak Chutney ...   \n",
      "\n",
      "                                TranslatedRecipeName  \\\n",
      "0                               Masala Karela Recipe   \n",
      "1                         Spicy Tomato Rice (Recipe)   \n",
      "2  Ragi Semiya Upma Recipe - Ragi Millet Vermicel...   \n",
      "3  Gongura Chicken Curry Recipe - Andhra Style Go...   \n",
      "4  Andhra Style Alam Pachadi Recipe - Adrak Chutn...   \n",
      "\n",
      "                                         Ingredients  \\\n",
      "0  6 Karela (Bitter Gourd/ Pavakkai) - deseeded,S...   \n",
      "1  2-1/2 कप चावल - पका ले,3 टमाटर,3 छोटा चमच्च बी...   \n",
      "2  1-1/2 cups Rice Vermicelli Noodles (Thin),1 On...   \n",
      "3  500 grams Chicken,2 Onion - chopped,1 Tomato -...   \n",
      "4  1 बड़ा चमच्च चना दाल,1 बड़ा चमच्च सफ़ेद उरद दाल,2...   \n",
      "\n",
      "                               TranslatedIngredients  PrepTimeInMins  \\\n",
      "0  6 Karela (Bitter Gourd/ Pavakkai) - deseeded,S...              15   \n",
      "1  2-1 / 2 cups rice - cooked, 3 tomatoes, 3 teas...               5   \n",
      "2  1-1/2 cups Rice Vermicelli Noodles (Thin),1 On...              20   \n",
      "3  500 grams Chicken,2 Onion - chopped,1 Tomato -...              15   \n",
      "4  1 tablespoon chana dal, 1 tablespoon white ura...              10   \n",
      "\n",
      "   CookTimeInMins  TotalTimeInMins  Servings               Cuisine  \\\n",
      "0              30               45         6                Indian   \n",
      "1              10               15         3  South Indian Recipes   \n",
      "2              30               50         4  South Indian Recipes   \n",
      "3              30               45         4                Andhra   \n",
      "4              20               30         4                Andhra   \n",
      "\n",
      "                   Course                     Diet  \\\n",
      "0               Side Dish        Diabetic Friendly   \n",
      "1             Main Course               Vegetarian   \n",
      "2  South Indian Breakfast  High Protein Vegetarian   \n",
      "3                   Lunch           Non Vegeterian   \n",
      "4  South Indian Breakfast               Vegetarian   \n",
      "\n",
      "                                        Instructions  \\\n",
      "0  To begin making the Masala Karela Recipe,de-se...   \n",
      "1  टमाटर पुलियोगरे बनाने के लिए सबसे पहले टमाटर क...   \n",
      "2  To begin making the Ragi Vermicelli Recipe, fi...   \n",
      "3  To begin making Gongura Chicken Curry Recipe f...   \n",
      "4  आंध्रा स्टाइल आलम पचड़ी बनाने के लिए सबसे पहले ...   \n",
      "\n",
      "                              TranslatedInstructions  \\\n",
      "0  To begin making the Masala Karela Recipe,de-se...   \n",
      "1  To make tomato puliogere, first cut the tomato...   \n",
      "2  To begin making the Ragi Vermicelli Recipe, fi...   \n",
      "3  To begin making Gongura Chicken Curry Recipe f...   \n",
      "4  To make Andhra Style Alam Pachadi, first heat ...   \n",
      "\n",
      "                                                 URL  \n",
      "0  https://www.archanaskitchen.com/masala-karela-...  \n",
      "1  http://www.archanaskitchen.com/spicy-tomato-ri...  \n",
      "2  http://www.archanaskitchen.com/ragi-vermicelli...  \n",
      "3  http://www.archanaskitchen.com/gongura-chicken...  \n",
      "4  https://www.archanaskitchen.com/andhra-style-a...  \n"
     ]
    }
   ],
   "source": [
    "print(df.head())"
   ]
  },
  {
   "cell_type": "code",
   "execution_count": 12,
   "id": "01b14096-21d1-4aaa-9f57-b0a60461b57e",
   "metadata": {},
   "outputs": [],
   "source": [
    "# def preprocess_text(text):\n",
    "#     # Tokenization\n",
    "#     tokens = word_tokenize(text)\n",
    "    \n",
    "#     # Convert to lowercase\n",
    "#     tokens = [token.lower() for token in tokens]\n",
    "    \n",
    "#     # Remove punctuation\n",
    "#     tokens = [token for token in tokens if token.isalpha()]\n",
    "    \n",
    "#     # Remove stopwords\n",
    "#     stop_words = set(stopwords.words('english'))\n",
    "#     tokens = [token for token in tokens if token not in stop_words]\n",
    "    \n",
    "#     # Lemmatization\n",
    "#     lemmatizer = WordNetLemmatizer()\n",
    "#     tokens = [lemmatizer.lemmatize(token) for token in tokens]\n",
    "    \n",
    "#     return ' '.join(tokens)\n"
   ]
  },
  {
   "cell_type": "code",
   "execution_count": 13,
   "id": "c1b3dc7d-270b-4a97-8620-b4e8216ec50b",
   "metadata": {},
   "outputs": [],
   "source": [
    "# df['processed_recipe'] = df['TranslatedRecipeName'].apply(preprocess_text)\n",
    "# print(df[['TranslatedRecipeName', 'processed_recipe']].head())"
   ]
  },
  {
   "cell_type": "code",
   "execution_count": 12,
   "id": "d6d1d280-c550-40f6-b605-cb1da11d2c43",
   "metadata": {},
   "outputs": [],
   "source": [
    "# Select the columns to preprocess\n",
    "columns_to_preprocess = ['Ingredients', 'TranslatedIngredients']"
   ]
  },
  {
   "cell_type": "code",
   "execution_count": 19,
   "id": "9127220d-0c05-47c4-a38f-a2bc0cbc2cef",
   "metadata": {},
   "outputs": [],
   "source": [
    "# Function to clean text\n",
    "def clean_text(text):\n",
    "    text = text.lower()\n",
    "    text = re.sub(r'\\d+', '', text)  # Remove numbers\n",
    "    text = re.sub(r'<.*?>', '', text)  # Remove HTML tags\n",
    "    text = re.sub(r'[^\\w\\s]', '', text)  # Remove punctuation\n",
    "    # text = emoji.get_emoji_regexp().sub(u'', text)  # Remove emojis\n",
    "    return text"
   ]
  },
  {
   "cell_type": "code",
   "execution_count": 20,
   "id": "345db5ec-35ba-4401-91ba-969d9c29618d",
   "metadata": {},
   "outputs": [
    {
     "name": "stdout",
     "output_type": "stream",
     "text": [
      "Cleaned data for Ingredients:\n",
      "0     karela bitter gourd pavakkai  deseededsalt  t...\n",
      "1     कप चवल  पक ल टमटर छट चमचच बस बल भत पउडरनमक  स...\n",
      "2     cups rice vermicelli noodles thin onion  slic...\n",
      "3     grams chicken onion  chopped tomato  chopped ...\n",
      "4     बड़ चमचच चन दल बड़ चमचच सफ़द उरद दल सख लल मरच बड़...\n",
      "Name: Ingredients_clean, dtype: object\n",
      "\n",
      "\n",
      "Cleaned data for TranslatedIngredients:\n",
      "0     karela bitter gourd pavakkai  deseededsalt  t...\n",
      "1       cups rice  cooked  tomatoes  teaspoons bc b...\n",
      "2     cups rice vermicelli noodles thin onion  slic...\n",
      "3     grams chicken onion  chopped tomato  chopped ...\n",
      "4     tablespoon chana dal  tablespoon white urad d...\n",
      "Name: TranslatedIngredients_clean, dtype: object\n",
      "\n",
      "\n"
     ]
    }
   ],
   "source": [
    "for column in columns_to_preprocess:\n",
    "    df[column + '_clean'] = df[column].astype(str).apply(clean_text)\n",
    "    print(f\"Cleaned data for {column}:\")\n",
    "    print(df[column + '_clean'].head())\n",
    "    print(\"\\n\")"
   ]
  },
  {
   "cell_type": "code",
   "execution_count": 21,
   "id": "d8a72f02-dcd9-4615-9fa8-fca27a31c20a",
   "metadata": {},
   "outputs": [],
   "source": [
    "# Function to tokenize text\n",
    "def tokenize(text):\n",
    "    return word_tokenize(text)"
   ]
  },
  {
   "cell_type": "code",
   "execution_count": 22,
   "id": "1c206227-133f-42ac-924e-040cd1a1a759",
   "metadata": {},
   "outputs": [
    {
     "name": "stdout",
     "output_type": "stream",
     "text": [
      "Tokenized data for Ingredients:\n",
      "0    [karela, bitter, gourd, pavakkai, deseededsalt...\n",
      "1    [कप, चवल, पक, ल, टमटर, छट, चमचच, बस, बल, भत, प...\n",
      "2    [cups, rice, vermicelli, noodles, thin, onion,...\n",
      "3    [grams, chicken, onion, chopped, tomato, chopp...\n",
      "4    [बड़, चमचच, चन, दल, बड़, चमचच, सफ़द, उरद, दल, सख,...\n",
      "Name: Ingredients_tokens, dtype: object\n",
      "\n",
      "\n",
      "Tokenized data for TranslatedIngredients:\n",
      "0    [karela, bitter, gourd, pavakkai, deseededsalt...\n",
      "1    [cups, rice, cooked, tomatoes, teaspoons, bc, ...\n",
      "2    [cups, rice, vermicelli, noodles, thin, onion,...\n",
      "3    [grams, chicken, onion, chopped, tomato, chopp...\n",
      "4    [tablespoon, chana, dal, tablespoon, white, ur...\n",
      "Name: TranslatedIngredients_tokens, dtype: object\n",
      "\n",
      "\n"
     ]
    }
   ],
   "source": [
    "for column in columns_to_preprocess:\n",
    "    df[column + '_tokens'] = df[column + '_clean'].apply(tokenize)\n",
    "    print(f\"Tokenized data for {column}:\")\n",
    "    print(df[column + '_tokens'].head())\n",
    "    print(\"\\n\")"
   ]
  },
  {
   "cell_type": "code",
   "execution_count": 23,
   "id": "2de3187f-8813-4117-98ef-81cf5ed3b8a0",
   "metadata": {},
   "outputs": [],
   "source": [
    "# Function to remove stopwords\n",
    "def remove_stopwords(tokens):\n",
    "    stop_words = set(stopwords.words('english'))\n",
    "    return [token for token in tokens if not token in stop_words]"
   ]
  },
  {
   "cell_type": "code",
   "execution_count": 24,
   "id": "6714338c-b644-4630-ba52-5fd7e9c1b01b",
   "metadata": {},
   "outputs": [
    {
     "name": "stdout",
     "output_type": "stream",
     "text": [
      "Data without stopwords for Ingredients:\n",
      "0    [karela, bitter, gourd, pavakkai, deseededsalt...\n",
      "1    [कप, चवल, पक, ल, टमटर, छट, चमचच, बस, बल, भत, प...\n",
      "2    [cups, rice, vermicelli, noodles, thin, onion,...\n",
      "3    [grams, chicken, onion, chopped, tomato, chopp...\n",
      "4    [बड़, चमचच, चन, दल, बड़, चमचच, सफ़द, उरद, दल, सख,...\n",
      "Name: Ingredients_no_stopwords, dtype: object\n",
      "\n",
      "\n",
      "Data without stopwords for TranslatedIngredients:\n",
      "0    [karela, bitter, gourd, pavakkai, deseededsalt...\n",
      "1    [cups, rice, cooked, tomatoes, teaspoons, bc, ...\n",
      "2    [cups, rice, vermicelli, noodles, thin, onion,...\n",
      "3    [grams, chicken, onion, chopped, tomato, chopp...\n",
      "4    [tablespoon, chana, dal, tablespoon, white, ur...\n",
      "Name: TranslatedIngredients_no_stopwords, dtype: object\n",
      "\n",
      "\n"
     ]
    }
   ],
   "source": [
    "for column in columns_to_preprocess:\n",
    "    df[column + '_no_stopwords'] = df[column + '_tokens'].apply(remove_stopwords)\n",
    "    print(f\"Data without stopwords for {column}:\")\n",
    "    print(df[column + '_no_stopwords'].head())\n",
    "    print(\"\\n\")"
   ]
  },
  {
   "cell_type": "code",
   "execution_count": 25,
   "id": "558e4476-43e3-45ba-969a-1a286058fd59",
   "metadata": {},
   "outputs": [],
   "source": [
    "# Function to perform lemmatization\n",
    "def lemmatize(tokens):\n",
    "    lemmatizer = WordNetLemmatizer()\n",
    "    return [lemmatizer.lemmatize(token) for token in tokens]"
   ]
  },
  {
   "cell_type": "code",
   "execution_count": 26,
   "id": "625e26b4-0f84-42da-a3b5-0513791d6ae9",
   "metadata": {},
   "outputs": [
    {
     "name": "stdout",
     "output_type": "stream",
     "text": [
      "Lemmatized data for Ingredients:\n",
      "0    [karela, bitter, gourd, pavakkai, deseededsalt...\n",
      "1    [कप, चवल, पक, ल, टमटर, छट, चमचच, बस, बल, भत, प...\n",
      "2    [cup, rice, vermicelli, noodle, thin, onion, s...\n",
      "3    [gram, chicken, onion, chopped, tomato, choppe...\n",
      "4    [बड़, चमचच, चन, दल, बड़, चमचच, सफ़द, उरद, दल, सख,...\n",
      "Name: Ingredients_lemmatized, dtype: object\n",
      "\n",
      "\n",
      "Lemmatized data for TranslatedIngredients:\n",
      "0    [karela, bitter, gourd, pavakkai, deseededsalt...\n",
      "1    [cup, rice, cooked, tomato, teaspoon, bc, bell...\n",
      "2    [cup, rice, vermicelli, noodle, thin, onion, s...\n",
      "3    [gram, chicken, onion, chopped, tomato, choppe...\n",
      "4    [tablespoon, chana, dal, tablespoon, white, ur...\n",
      "Name: TranslatedIngredients_lemmatized, dtype: object\n",
      "\n",
      "\n"
     ]
    }
   ],
   "source": [
    "for column in columns_to_preprocess:\n",
    "    df[column + '_lemmatized'] = df[column + '_no_stopwords'].apply(lemmatize)\n",
    "    print(f\"Lemmatized data for {column}:\")\n",
    "    print(df[column + '_lemmatized'].head())\n",
    "    print(\"\\n\")"
   ]
  },
  {
   "cell_type": "code",
   "execution_count": 27,
   "id": "5d956f9d-1369-4b6a-94ae-6f8ec5d88e68",
   "metadata": {},
   "outputs": [],
   "source": [
    "# Function to perform POS tagging\n",
    "def pos_tagging(tokens):\n",
    "    return pos_tag(tokens)"
   ]
  },
  {
   "cell_type": "code",
   "execution_count": 28,
   "id": "a6e8f2a9-4bb1-4092-be3f-c5e2451c51ef",
   "metadata": {},
   "outputs": [
    {
     "name": "stdout",
     "output_type": "stream",
     "text": [
      "POS tagged data for Ingredients:\n",
      "0    [(karela, NN), (bitter, NN), (gourd, NN), (pav...\n",
      "1    [(कप, JJ), (चवल, NNP), (पक, NNP), (ल, NNP), (ट...\n",
      "2    [(cup, NN), (rice, NN), (vermicelli, NN), (noo...\n",
      "3    [(gram, NN), (chicken, NN), (onion, NN), (chop...\n",
      "4    [(बड़, JJ), (चमचच, NNP), (चन, NNP), (दल, NNP), ...\n",
      "Name: Ingredients_pos_tags, dtype: object\n",
      "\n",
      "\n",
      "POS tagged data for TranslatedIngredients:\n",
      "0    [(karela, NN), (bitter, NN), (gourd, NN), (pav...\n",
      "1    [(cup, NN), (rice, NN), (cooked, VBD), (tomato...\n",
      "2    [(cup, NN), (rice, NN), (vermicelli, NN), (noo...\n",
      "3    [(gram, NN), (chicken, NN), (onion, NN), (chop...\n",
      "4    [(tablespoon, NN), (chana, NN), (dal, JJ), (ta...\n",
      "Name: TranslatedIngredients_pos_tags, dtype: object\n",
      "\n",
      "\n"
     ]
    }
   ],
   "source": [
    "for column in columns_to_preprocess:\n",
    "    df[column + '_pos_tags'] = df[column + '_lemmatized'].apply(pos_tagging)\n",
    "    print(f\"POS tagged data for {column}:\")\n",
    "    print(df[column + '_pos_tags'].head())\n",
    "    print(\"\\n\")"
   ]
  },
  {
   "cell_type": "code",
   "execution_count": 29,
   "id": "e1dd9618-2e4d-4a69-90c8-8d7c1f7065e7",
   "metadata": {},
   "outputs": [],
   "source": [
    "# Function for named entity recognition\n",
    "def named_entity_recognition(pos_tags):\n",
    "    tree = conlltags2tree(tree2conlltags(ne_chunk(pos_tags)))\n",
    "    return tree"
   ]
  },
  {
   "cell_type": "code",
   "execution_count": 30,
   "id": "c999cce0-3665-4ae1-a0e1-7ed7f3818444",
   "metadata": {},
   "outputs": [
    {
     "name": "stdout",
     "output_type": "stream",
     "text": [
      "Named entities for Ingredients:\n",
      "0    [(karela, NN), (bitter, NN), (gourd, NN), (pav...\n",
      "1    [(कप, JJ), [(चवल, NNP)], (पक, NNP), (ल, NNP), ...\n",
      "2    [(cup, NN), (rice, NN), (vermicelli, NN), (noo...\n",
      "3    [(gram, NN), (chicken, NN), (onion, NN), (chop...\n",
      "4    [(बड़, JJ), [(चमचच, NNP)], (चन, NNP), (दल, NNP)...\n",
      "Name: Ingredients_ner, dtype: object\n",
      "\n",
      "\n",
      "Named entities for TranslatedIngredients:\n",
      "0    [(karela, NN), (bitter, NN), (gourd, NN), (pav...\n",
      "1    [(cup, NN), (rice, NN), (cooked, VBD), (tomato...\n",
      "2    [(cup, NN), (rice, NN), (vermicelli, NN), (noo...\n",
      "3    [(gram, NN), (chicken, NN), (onion, NN), (chop...\n",
      "4    [(tablespoon, NN), (chana, NN), (dal, JJ), (ta...\n",
      "Name: TranslatedIngredients_ner, dtype: object\n",
      "\n",
      "\n"
     ]
    }
   ],
   "source": [
    "for column in columns_to_preprocess:\n",
    "    df[column + '_ner'] = df[column + '_pos_tags'].apply(named_entity_recognition)\n",
    "    print(f\"Named entities for {column}:\")\n",
    "    print(df[column + '_ner'].head())\n",
    "    print(\"\\n\")"
   ]
  },
  {
   "cell_type": "code",
   "execution_count": 31,
   "id": "7b9e87fd-ee4e-460d-b24d-3987713eac54",
   "metadata": {},
   "outputs": [
    {
     "name": "stdout",
     "output_type": "stream",
     "text": [
      "Bag of Words vectors for Ingredients:\n",
      "0    [0, 0, 0, 0, 0, 0, 0, 0, 0, 0, 0, 0, 0, 0, 0, ...\n",
      "1    [0, 0, 0, 0, 0, 0, 0, 0, 0, 0, 0, 0, 0, 0, 0, ...\n",
      "2    [0, 0, 0, 0, 0, 0, 0, 0, 0, 0, 0, 0, 0, 0, 0, ...\n",
      "3    [0, 0, 0, 0, 0, 0, 0, 0, 0, 0, 0, 0, 0, 0, 0, ...\n",
      "4    [0, 0, 0, 0, 0, 0, 0, 0, 0, 0, 0, 0, 0, 0, 0, ...\n",
      "Name: Ingredients_bow, dtype: object\n"
     ]
    }
   ],
   "source": [
    "# Bag of Words Vectorization\n",
    "count_vectorizer = CountVectorizer()\n",
    "df['Ingredients_bow'] = list(count_vectorizer.fit_transform(df['Ingredients_lemmatized'].apply(lambda x: ' '.join(x))).toarray())\n",
    "print(\"Bag of Words vectors for Ingredients:\")\n",
    "print(df['Ingredients_bow'].head())"
   ]
  },
  {
   "cell_type": "code",
   "execution_count": 32,
   "id": "09313f66-b2bf-4ea2-a9f5-ecea362903c7",
   "metadata": {},
   "outputs": [
    {
     "name": "stdout",
     "output_type": "stream",
     "text": [
      "Word2Vec vectors for Ingredients:\n",
      "0    [-1.3646272, 0.6158518, -1.1022518, -0.4020760...\n",
      "1    [1.4745777, -0.13950716, 1.0738394, 0.05996406...\n",
      "2    [-1.304461, 0.61397624, -1.0359329, -0.3339517...\n",
      "3    [-1.36038, 0.6368147, -1.2757882, -0.3278955, ...\n",
      "4    [1.3943256, -0.19423814, 1.0712048, 0.2121522,...\n",
      "Name: Ingredients_word2vec, dtype: object\n"
     ]
    }
   ],
   "source": [
    "# Word2Vec Embedding\n",
    "word2vec_model = Word2Vec(df['Ingredients_lemmatized'], vector_size=100, window=5, min_count=1, workers=4)\n",
    "df['Ingredients_word2vec'] = df['Ingredients_lemmatized'].apply(lambda x: np.mean([word2vec_model.wv[token] for token in x if token in word2vec_model.wv], axis=0))\n",
    "print(\"Word2Vec vectors for Ingredients:\")\n",
    "print(df['Ingredients_word2vec'].head())"
   ]
  },
  {
   "cell_type": "code",
   "execution_count": 33,
   "id": "c6a06356-2584-48fb-9684-faac3b1c90ca",
   "metadata": {},
   "outputs": [],
   "source": [
    "# # Example of using Word2Vec for embeddings\n",
    "# word2vec_model = Word2Vec(df['Ingredients_lemmatized'], min_count=1)"
   ]
  },
  {
   "cell_type": "code",
   "execution_count": 34,
   "id": "4039e3b7-89be-4fac-8263-34cab04b7a1b",
   "metadata": {},
   "outputs": [],
   "source": [
    "# View the preprocessed data\n",
    "# print(df.head())  # Displays the first few rows of the DataFrame"
   ]
  },
  {
   "cell_type": "code",
   "execution_count": null,
   "id": "5d00f7f3-fb20-42c7-ab39-71c63dcba509",
   "metadata": {},
   "outputs": [],
   "source": []
  }
 ],
 "metadata": {
  "kernelspec": {
   "display_name": "Python 3 (ipykernel)",
   "language": "python",
   "name": "python3"
  },
  "language_info": {
   "codemirror_mode": {
    "name": "ipython",
    "version": 3
   },
   "file_extension": ".py",
   "mimetype": "text/x-python",
   "name": "python",
   "nbconvert_exporter": "python",
   "pygments_lexer": "ipython3",
   "version": "3.11.6"
  }
 },
 "nbformat": 4,
 "nbformat_minor": 5
}
